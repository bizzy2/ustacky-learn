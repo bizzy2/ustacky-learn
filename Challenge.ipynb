{
 "cells": [
  {
   "cell_type": "code",
   "execution_count": null,
   "metadata": {
    "collapsed": true,
    "pycharm": {
     "name": "#%%\n"
    }
   },
   "outputs": [],
   "source": []
  },
  {
   "cell_type": "code",
   "execution_count": 2,
   "outputs": [],
   "source": [
    "import matplotlib.pyplot as plt\n",
    "import numpy as np"
   ],
   "metadata": {
    "collapsed": false,
    "pycharm": {
     "name": "#%%\n"
    }
   }
  },
  {
   "cell_type": "code",
   "execution_count": 4,
   "outputs": [],
   "source": [],
   "metadata": {
    "collapsed": false,
    "pycharm": {
     "name": "#%%\n"
    }
   }
  },
  {
   "cell_type": "code",
   "execution_count": 7,
   "outputs": [
    {
     "data": {
      "text/plain": "<Figure size 432x288 with 1 Axes>",
      "image/png": "[encoded data removed]"
     },
     "metadata": {
      "needs_background": "light"
     },
     "output_type": "display_data"
    }
   ],
   "source": [
    "fig = plt.figure()\n",
    "ax = fig.add_subplot(1, 1, 1)\n",
    "ax.spines['left'].set_position('center')\n",
    "ax.spines['bottom'].set_position('center')\n",
    "ax.spines['right'].set_color('none')\n",
    "ax.spines['top'].set_color('none')\n",
    "ax.xaxis.set_ticks_position('bottom')\n",
    "ax.yaxis.set_ticks_position('left')\n",
    "plt.plot()\n",
    "plt.show()"
   ],
   "metadata": {
    "collapsed": false,
    "pycharm": {
     "name": "#%%\n"
    }
   }
  },
  {
   "cell_type": "code",
   "execution_count": 3,
   "outputs": [
    {
     "data": {
      "text/plain": "<Figure size 432x288 with 1 Axes>",
      "image/png": "[encoded data removed]"
     },
     "metadata": {
      "needs_background": "light"
     },
     "output_type": "display_data"
    }
   ],
   "source": [
    "x = np.array([3000, -3000, 4100, -4100, -3000])\n",
    "y = np.array([5000, -5000, 4100, -4100, 5000])\n",
    "color = ['red', 'red', 'green', 'red', 'green']\n",
    "fig, ax = plt.subplots()\n",
    "circle1 = plt.scatter(0, 0, s=10000, facecolors='none', edgecolors='blue')\n",
    "ct = plt.scatter(x, y, c=color, s=100)\n",
    "ax.add_artist(ct)\n",
    "ax.add_artist(circle1)\n",
    "plt.show()"
   ],
   "metadata": {
    "collapsed": false,
    "pycharm": {
     "name": "#%%\n"
    }
   }
  },
  {
   "cell_type": "code",
   "execution_count": 69,
   "outputs": [
    {
     "name": "stdout",
     "output_type": "stream",
     "text": [
      "[ 8000 -8000  8200 -8200  2000]\n",
      "[(3000, 5000), (-3000, -5000), (4100, 4100), (-4100, -4100), (-3000, 5000)]\n"
     ]
    }
   ],
   "source": [
    "coord = list(zip(x, y))\n",
    "sumcoord = x + y\n",
    "print(sumcoord)\n",
    "print(coord)\n",
    "val = list(zip(coord, sumcoord))\n"
   ],
   "metadata": {
    "collapsed": false,
    "pycharm": {
     "name": "#%%\n"
    }
   }
  },
  {
   "cell_type": "code",
   "execution_count": 74,
   "outputs": [
    {
     "name": "stdout",
     "output_type": "stream",
     "text": [
      "{0: ((3000, 5000), 8000), 1: ((-3000, -5000), -8000), 2: ((4100, 4100), 8200), 3: ((-4100, -4100), -8200), 4: ((-3000, 5000), 2000)}\n"
     ]
    }
   ],
   "source": [
    "dictionary = dict(zip([index for index, element in enumerate(color)], val))\n",
    "print(dictionary)"
   ],
   "metadata": {
    "collapsed": false,
    "pycharm": {
     "name": "#%%\n"
    }
   }
  },
  {
   "cell_type": "code",
   "execution_count": 79,
   "outputs": [
    {
     "name": "stdout",
     "output_type": "stream",
     "text": [
      "{0: (3000, 5000), 1: (-3000, -5000), 2: (4100, 4100), 3: (-4100, -4100), 4: (-3000, 5000)}\n",
      "{3: (-4100, -4100), 1: (-3000, -5000), 4: (-3000, 5000), 0: (3000, 5000), 2: (4100, 4100)}\n"
     ]
    }
   ],
   "source": [
    "dictionary2 = dict(zip([index for index, element in enumerate(color)], coord))\n",
    "print(dictionary2)\n",
    "dictionary3 = {k: v for k, v in sorted(dictionary2.items(), key=lambda items: items[1])}  #sorting the dictionary\n",
    "print(dictionary3)"
   ],
   "metadata": {
    "collapsed": false,
    "pycharm": {
     "name": "#%%\n"
    }
   }
  },
  {
   "cell_type": "code",
   "execution_count": 81,
   "outputs": [
    {
     "data": {
      "text/plain": "{'red': (-4100, -4100), 'green': (-3000, 5000)}"
     },
     "execution_count": 81,
     "metadata": {},
     "output_type": "execute_result"
    }
   ],
   "source": [
    "\n",
    "\n",
    "dict(zip(color, val))"
   ],
   "metadata": {
    "collapsed": false,
    "pycharm": {
     "name": "#%%\n"
    }
   }
  }
 ],
 "metadata": {
  "kernelspec": {
   "display_name": "Python 3",
   "language": "python",
   "name": "python3"
  },
  "language_info": {
   "codemirror_mode": {
    "name": "ipython",
    "version": 2
   },
   "file_extension": ".py",
   "mimetype": "text/x-python",
   "name": "python",
   "nbconvert_exporter": "python",
   "pygments_lexer": "ipython2",
   "version": "2.7.6"
  }
 },
 "nbformat": 4,
 "nbformat_minor": 0
}