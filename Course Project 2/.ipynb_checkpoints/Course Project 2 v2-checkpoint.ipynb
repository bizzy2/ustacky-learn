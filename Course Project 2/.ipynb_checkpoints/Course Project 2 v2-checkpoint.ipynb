{
 "cells": [
  {
   "cell_type": "markdown",
   "metadata": {
    "collapsed": true,
    "pycharm": {
     "name": "#%% md\n"
    }
   },
   "source": [
    "# Import Libraries"
   ]
  },
  {
   "cell_type": "code",
   "execution_count": null,
   "metadata": {
    "pycharm": {
     "name": "#%%\n"
    }
   },
   "outputs": [],
   "source": [
    "import requests\n",
    "import numpy as np\n",
    "import urllib.request\n",
    "import pandas as pd\n",
    "import csv\n",
    "from bs4 import BeautifulSoup\n",
    "import seaborn as sns\n",
    "sns.set_style(\"darkgrid\")\n",
    "import matplotlib.pyplot as plt\n",
    "%matplotlib inline\n",
    "plt.style.use('fivethirtyeight')\n",
    "import warnings\n",
    "warnings.filterwarnings('ignore')"
   ]
  },
  {
   "cell_type": "markdown",
   "metadata": {
    "pycharm": {
     "name": "#%% md\n"
    }
   },
   "source": [
    "# Data"
   ]
  },
  {
   "cell_type": "markdown",
   "metadata": {
    "pycharm": {
     "name": "#%% md\n"
    }
   },
   "source": [
    "## A -  Cases from Nigeria"
   ]
  },
  {
   "cell_type": "code",
   "execution_count": null,
   "metadata": {
    "pycharm": {
     "name": "#%%\n"
    }
   },
   "outputs": [],
   "source": [
    "NigCovidurl = 'https://raw.githubusercontent.com/Ustacky-dev/Nigeria-COVID-19-Data-Analysis-Using-Python/main/covidnig.csv'\n",
    "NigCovid = pd.read_csv(NigCovidurl,thousands=',')"
   ]
  },
  {
   "cell_type": "markdown",
   "metadata": {},
   "source": [
    "## B - Cases from John Hopkins Data Repository"
   ]
  },
  {
   "cell_type": "code",
   "execution_count": null,
   "metadata": {
    "pycharm": {
     "is_executing": true,
     "name": "#%%\n"
    }
   },
   "outputs": [],
   "source": [
    "globalconfirmedurl = 'https://raw.githubusercontent.com/CSSEGISandData/COVID-19/master/csse_covid_19_data/csse_covid_19_time_series/time_series_covid19_confirmed_global.csv'\n",
    "globalconfirmed = pd.read_csv(globalconfirmedurl)\n",
    "\n",
    "\n",
    "recoveredurl = 'https://raw.githubusercontent.com/CSSEGISandData/COVID-19/master/csse_covid_19_data/csse_covid_19_time_series/time_series_covid19_recovered_global.csv'\n",
    "recovered = pd.read_csv(recoveredurl)\n",
    "\n",
    "\n",
    "globaldeathurl = 'https://raw.githubusercontent.com/CSSEGISandData/COVID-19/master/csse_covid_19_data/csse_covid_19_time_series/time_series_covid19_deaths_global.csv'\n",
    "globaldeath = pd.read_csv(globaldeathurl)"
   ]
  },
  {
   "cell_type": "markdown",
   "metadata": {},
   "source": [
    "#### Restructure date columns in global confirmed cases"
   ]
  },
  {
   "cell_type": "code",
   "execution_count": null,
   "metadata": {
    "pycharm": {
     "is_executing": true,
     "name": "#%%\n"
    }
   },
   "outputs": [],
   "source": [
    "globalconfirmedheaders = np.array(globalconfirmed.columns)[4:] # Select all date columns\n",
    "\n",
    "globalconfirmedheadersMain = np.array(globalconfirmed.columns)[:4] # Select all none date columns\n",
    "\n",
    "globalconfirmed_new = pd.melt(globalconfirmed,id_vars=globalconfirmedheadersMain,\n",
    "                              value_vars=globalconfirmedheaders,var_name='Date',value_name='cases')\\\n",
    "    .groupby(by =['Province/State', 'Country/Region', 'Lat', 'Long', 'Date']).sum().reset_index() # Arrange all date columns to one column, date.\n",
    "\n"
   ]
  },
  {
   "cell_type": "markdown",
   "metadata": {},
   "source": [
    "#### Restructure date columns in global recovered cases"
   ]
  },
  {
   "cell_type": "code",
   "execution_count": null,
   "metadata": {
    "pycharm": {
     "is_executing": true,
     "name": "#%%\n"
    }
   },
   "outputs": [],
   "source": [
    "recoveredheaders = np.array(recovered.columns)[4:] # Select all date columns\n",
    "\n",
    "recoveredheadersheadersMain = np.array(recovered.columns)[:4] # Select all none date columns\n",
    "\n",
    "recovered_new = pd.melt(recovered,id_vars=recoveredheadersheadersMain,\n",
    "                              value_vars=recoveredheaders,var_name='Date',value_name='cases')\\\n",
    "    .groupby(by =['Province/State', 'Country/Region', 'Lat', 'Long', 'Date']).sum().reset_index() # Arrange all date columns to one column, date.\n"
   ]
  },
  {
   "cell_type": "markdown",
   "metadata": {},
   "source": [
    "#### Restructure date columns in global recovered cases"
   ]
  },
  {
   "cell_type": "code",
   "execution_count": null,
   "metadata": {
    "pycharm": {
     "is_executing": true,
     "name": "#%%\n"
    }
   },
   "outputs": [],
   "source": [
    "globaldeathheaders = np.array(globaldeath.columns)[4:] # Select all date columns\n",
    "\n",
    "globaldeathheadersMain = np.array(globaldeath.columns)[:4] # Select all none date columns\n",
    "\n",
    "globaldeath_new = pd.melt(globaldeath,id_vars=globaldeathheadersMain,\n",
    "                              value_vars=globaldeathheaders,var_name='Date',value_name='cases')\\\n",
    "    .groupby(by =['Province/State', 'Country/Region', 'Lat', 'Long', 'Date']).sum().reset_index() # Arrange all date columns to one column, date.\n",
    "\n"
   ]
  },
  {
   "cell_type": "markdown",
   "metadata": {
    "pycharm": {
     "name": "#%% md\n"
    }
   },
   "source": [
    "## C - External Data"
   ]
  },
  {
   "cell_type": "code",
   "execution_count": null,
   "metadata": {
    "pycharm": {
     "is_executing": true,
     "name": "#%%\n"
    }
   },
   "outputs": [],
   "source": [
    "Budgetdataurl = 'https://raw.githubusercontent.com/Ustacky-dev/Nigeria-COVID-19-Data-Analysis-Using-Python/main/Budget%20data.csv'\n",
    "\n",
    "RealGDPurl = 'https://raw.githubusercontent.com/Ustacky-dev/Nigeria-COVID-19-Data-Analysis-Using-Python/main/RealGDP.csv'\n",
    "\n",
    "externalFileurl = 'https://raw.githubusercontent.com/Ustacky-dev/Nigeria-COVID-19-Data-Analysis-Using-Python/main/covid_external.csv'\n",
    "\n",
    "\n",
    "Budgetdata = pd.read_csv(Budgetdataurl)\n",
    "RealGDP = pd.read_csv(RealGDPurl)\n",
    "externalFile = pd.read_csv(externalFileurl)"
   ]
  },
  {
   "cell_type": "markdown",
   "metadata": {
    "pycharm": {
     "name": "#%% md\n"
    }
   },
   "source": [
    "## Task 2 -  View Data Properties"
   ]
  },
  {
   "cell_type": "markdown",
   "metadata": {
    "pycharm": {
     "name": "#%% md\n"
    }
   },
   "source": [
    "#### Reviewing First Five Data Points"
   ]
  },
  {
   "cell_type": "code",
   "execution_count": null,
   "metadata": {
    "pycharm": {
     "is_executing": true,
     "name": "#%%\n"
    }
   },
   "outputs": [],
   "source": [
    "print(NigCovid.head())\n",
    "print('*'*50,'\\n')\n",
    "print(globalconfirmed_new.head())\n",
    "print('*'*50,'\\n')\n",
    "print(recovered_new.head())\n",
    "print('*'*50,'\\n')\n",
    "print(globaldeath_new.head())\n",
    "print('*'*50,'\\n')\n",
    "print(Budgetdata.head())\n",
    "print('*'*50,'\\n')\n",
    "print(RealGDP.head())\n",
    "print('*'*50,'\\n')\n",
    "print(externalFile.head())\n",
    "print('*'*50,'\\n')"
   ]
  },
  {
   "cell_type": "markdown",
   "metadata": {},
   "source": [
    "#### Reviewing Data info"
   ]
  },
  {
   "cell_type": "code",
   "execution_count": null,
   "metadata": {
    "pycharm": {
     "name": "#%%\n"
    }
   },
   "outputs": [],
   "source": [
    "print(NigCovid.info())\n",
    "print('*'*50,'\\n')\n",
    "print(globalconfirmed_new.info())\n",
    "print('*'*50,'\\n')\n",
    "print(recovered_new.info())\n",
    "print('*'*50,'\\n')\n",
    "print(globaldeath_new.info())\n",
    "print('*'*50,'\\n')\n",
    "print(Budgetdata.info())\n",
    "print('*'*50,'\\n')\n",
    "print(RealGDP.info())\n",
    "print('*'*50,'\\n')\n",
    "print(externalFile.info())\n",
    "print('*'*50,'\\n')"
   ]
  },
  {
   "cell_type": "markdown",
   "metadata": {
    "pycharm": {
     "name": "#%% md\n"
    }
   },
   "source": [
    "## Task 3 - Data Cleaning and Preparation\n",
    "\n",
    "### Convert to appropriate data type\n",
    "\n",
    "#### converter into date types"
   ]
  },
  {
   "cell_type": "code",
   "execution_count": null,
   "metadata": {
    "pycharm": {
     "name": "#%%\n"
    }
   },
   "outputs": [],
   "source": [
    "globalconfirmed_new['Date'] = pd.to_datetime(globalconfirmed_new['Date'])\n",
    "\n",
    "recovered_new['Date'] = pd.to_datetime(recovered_new['Date'])\n",
    "\n",
    "globaldeath_new['Date'] = pd.to_datetime(globaldeath_new['Date'])"
   ]
  },
  {
   "cell_type": "markdown",
   "metadata": {},
   "source": [
    "#### Remove commas from scrapped data"
   ]
  },
  {
   "cell_type": "code",
   "execution_count": null,
   "metadata": {
    "pycharm": {
     "name": "#%%\n"
    }
   },
   "outputs": [],
   "source": [
    "#NigCovid[1:] = NigCovid[1:].replace(',','')\n",
    "print(NigCovid.info())"
   ]
  },
  {
   "cell_type": "markdown",
   "metadata": {
    "pycharm": {
     "name": "#%% md\n"
    }
   },
   "source": [
    "#### Rename columns in the Nigeria COVID-19 Data"
   ]
  },
  {
   "cell_type": "code",
   "execution_count": null,
   "metadata": {
    "pycharm": {
     "name": "#%%\n"
    }
   },
   "outputs": [],
   "source": [
    "Nigcovidheaders = np.array(NigCovid.columns) #\n",
    "NigCovid.rename(columns = {Nigcovidheaders[0]:'States',\n",
    "                    Nigcovidheaders[1]:'Confirmed',\n",
    "                    Nigcovidheaders[2]:'Admissions',\n",
    "                    Nigcovidheaders[3]:'Discharged',\n",
    "                    Nigcovidheaders[4]: 'Deaths'}, inplace = True)"
   ]
  },
  {
   "cell_type": "markdown",
   "metadata": {},
   "source": [
    "#### Remove comma(,) in numerical data\n",
    "#### Look into this"
   ]
  },
  {
   "cell_type": "code",
   "execution_count": null,
   "metadata": {
    "pycharm": {
     "name": "#%%\n"
    }
   },
   "outputs": [],
   "source": [
    "#NigCovid.astype({'Confirmed':'float','Admissions':'float','Discharged':'str','Deaths':'str'})\n",
    "# list(Nigcovidheaders[1:])\n",
    "#NigCovid[list(Nigcovidheaders[1:])]= NigCovid.Confirmed.astype(int)\n",
    "#NigCovid['Confirmed'].replace(',',regex=True,inplace=True)\n",
    "##NigCovid.Confirmed = NigCovid.Confirmed.astype(float)\n",
    "##print(NigCovid.info())\n"
   ]
  },
  {
   "cell_type": "markdown",
   "metadata": {},
   "source": [
    "#### Extract daily data for Nigeria from the Global daily cases data\n",
    "#### look into countries present in the data set"
   ]
  },
  {
   "cell_type": "code",
   "execution_count": null,
   "metadata": {
    "pycharm": {
     "name": "#%%\n"
    }
   },
   "outputs": [],
   "source": [
    "print(globalconfirmed_new['Country/Region'].unique())\n",
    "# no Nigeria present in the data\n",
    "country = 'Nigeria'\n",
    "Nigeria = globalconfirmed_new[globalconfirmed_new['Country/Region'] == country]\n",
    "print(Nigeria)"
   ]
  },
  {
   "cell_type": "markdown",
   "metadata": {
    "pycharm": {
     "name": "#%% md\n"
    }
   },
   "source": [
    "# Task 4 - Analysis\n",
    "### Confirmed Covid cases by Laboratory test"
   ]
  },
  {
   "cell_type": "code",
   "execution_count": null,
   "metadata": {
    "pycharm": {
     "name": "#%%\n"
    }
   },
   "outputs": [],
   "source": [
    "#print(NigCovid)\n",
    "NigCovid.set_index('States') ## Set state as index\n",
    "Top_10_Confirmed = NigCovid.nlargest(10, columns=['Confirmed'])[['Confirmed']]\n",
    "print(Top_10_Confirmed)"
   ]
  }
 ],
 "metadata": {
  "kernelspec": {
   "display_name": "Python 3 (ipykernel)",
   "language": "python",
   "name": "python3"
  },
  "language_info": {
   "codemirror_mode": {
    "name": "ipython",
    "version": 2
   },
   "file_extension": ".py",
   "mimetype": "text/x-python",
   "name": "python",
   "nbconvert_exporter": "python",
   "pygments_lexer": "ipython2",
   "version": "2.7.6"
  }
 },
 "nbformat": 4,
 "nbformat_minor": 1
}
