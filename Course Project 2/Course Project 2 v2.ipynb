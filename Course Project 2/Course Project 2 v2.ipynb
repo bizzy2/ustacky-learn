{
 "cells": [
  {
   "cell_type": "markdown",
   "metadata": {
    "collapsed": true,
    "pycharm": {
     "name": "#%% md\n"
    }
   },
   "source": [
    "# Import Libraries"
   ]
  },
  {
   "cell_type": "code",
   "execution_count": 1,
   "metadata": {
    "pycharm": {
     "name": "#%%\n"
    }
   },
   "outputs": [
    {
     "name": "stderr",
     "output_type": "stream",
     "text": [
      "UsageError: Line magic function `%` not found.\n"
     ]
    }
   ],
   "source": [
    "\n",
    "import numpy as np\n",
    "import pandas as pd\n",
    "import seaborn as sns\n",
    "\n",
    "sns.set_style(\"darkgrid\")\n",
    "import matplotlib.pyplot as plt\n",
    "% matplotlib inline\n",
    "plt.style.use('fivethirtyeight')\n",
    "import warnings\n",
    "\n",
    "warnings.filterwarnings('ignore')"
   ]
  },
  {
   "cell_type": "markdown",
   "metadata": {
    "pycharm": {
     "name": "#%% md\n"
    }
   },
   "source": [
    "# Data"
   ]
  },
  {
   "cell_type": "markdown",
   "metadata": {
    "pycharm": {
     "name": "#%% md\n"
    }
   },
   "source": [
    "## A -  Cases from Nigeria"
   ]
  },
  {
   "cell_type": "code",
   "execution_count": 2,
   "metadata": {
    "pycharm": {
     "name": "#%%\n"
    }
   },
   "outputs": [],
   "source": [
    "NigCovidurl = 'https://raw.githubusercontent.com/Ustacky-dev/Nigeria-COVID-19-Data-Analysis-Using-Python/main/covidnig.csv'\n",
    "NigCovid = pd.read_csv(NigCovidurl, thousands=',')\n"
   ]
  },
  {
   "cell_type": "markdown",
   "metadata": {
    "pycharm": {
     "name": "#%% md\n"
    }
   },
   "source": [
    "## B - Cases from John Hopkins Data Repository"
   ]
  },
  {
   "cell_type": "code",
   "execution_count": 3,
   "metadata": {
    "pycharm": {
     "name": "#%%\n"
    }
   },
   "outputs": [],
   "source": [
    "globalconfirmedurl = 'https://raw.githubusercontent.com/CSSEGISandData/COVID-19/master/csse_covid_19_data/csse_covid_19_time_series/time_series_covid19_confirmed_global.csv'\n",
    "globalconfirmed = pd.read_csv(globalconfirmedurl)\n",
    "\n",
    "recoveredurl = 'https://raw.githubusercontent.com/CSSEGISandData/COVID-19/master/csse_covid_19_data/csse_covid_19_time_series/time_series_covid19_recovered_global.csv'\n",
    "recovered = pd.read_csv(recoveredurl)\n",
    "\n",
    "globaldeathurl = 'https://raw.githubusercontent.com/CSSEGISandData/COVID-19/master/csse_covid_19_data/csse_covid_19_time_series/time_series_covid19_deaths_global.csv'\n",
    "globaldeath = pd.read_csv(globaldeathurl)"
   ]
  },
  {
   "cell_type": "markdown",
   "metadata": {
    "pycharm": {
     "name": "#%% md\n"
    }
   },
   "source": [
    "#### Restructure date columns in global confirmed cases"
   ]
  },
  {
   "cell_type": "code",
   "execution_count": 7,
   "metadata": {
    "pycharm": {
     "name": "#%%\n"
    }
   },
   "outputs": [],
   "source": [
    "\n",
    "\n",
    "globalconfirmedheaders = np.array(globalconfirmed.columns)[4:]  # Select all date columns\n",
    "\n",
    "globalconfirmedheadersMain = np.array(globalconfirmed.columns)[:4]  # Select all none date columns\n",
    "\n",
    "globalconfirmed_new = pd.melt(globalconfirmed, id_vars=globalconfirmedheadersMain,\n",
    "                              value_vars=globalconfirmedheaders, var_name='Date', value_name='cases').groupby(\n",
    "    by=['Province/State', 'Country/Region', 'Lat', 'Long',\n",
    "        'Date']).sum().reset_index()  # Arrange all date columns to one column, date.\n",
    "\n"
   ]
  },
  {
   "cell_type": "markdown",
   "metadata": {
    "pycharm": {
     "name": "#%% md\n"
    }
   },
   "source": [
    "#### Restructure date columns in global recovered cases"
   ]
  },
  {
   "cell_type": "code",
   "execution_count": 8,
   "metadata": {
    "pycharm": {
     "name": "#%%\n"
    }
   },
   "outputs": [],
   "source": [
    "recoveredheaders = np.array(recovered.columns)[4:]  # Select all date columns\n",
    "\n",
    "recoveredheadersheadersMain = np.array(recovered.columns)[:4]  # Select all none date columns\n",
    "\n",
    "recovered_new = pd.melt(recovered, id_vars=recoveredheadersheadersMain,\n",
    "                        value_vars=recoveredheaders, var_name='Date', value_name='cases').groupby(\n",
    "    by=['Province/State', 'Country/Region', 'Lat', 'Long',\n",
    "        'Date']).sum().reset_index()  # Arrange all date columns to one column, date.\n"
   ]
  },
  {
   "cell_type": "markdown",
   "metadata": {
    "pycharm": {
     "name": "#%% md\n"
    }
   },
   "source": [
    "#### Restructure date columns in global recovered cases"
   ]
  },
  {
   "cell_type": "code",
   "execution_count": 9,
   "metadata": {
    "pycharm": {
     "name": "#%%\n"
    }
   },
   "outputs": [],
   "source": [
    "globaldeathheaders = np.array(globaldeath.columns)[4:]  # Select all date columns\n",
    "\n",
    "globaldeathheadersMain = np.array(globaldeath.columns)[:4]  # Select all none date columns\n",
    "\n",
    "globaldeath_new = pd.melt(globaldeath, id_vars=globaldeathheadersMain,\n",
    "                          value_vars=globaldeathheaders, var_name='Date', value_name='cases').groupby(\n",
    "    by=['Province/State', 'Country/Region', 'Lat', 'Long',\n",
    "        'Date']).sum().reset_index()  # Arrange all date columns to one column, date.\n",
    "\n"
   ]
  },
  {
   "cell_type": "markdown",
   "metadata": {
    "pycharm": {
     "name": "#%% md\n"
    }
   },
   "source": [
    "## C - External Data"
   ]
  },
  {
   "cell_type": "code",
   "execution_count": 10,
   "metadata": {
    "pycharm": {
     "name": "#%%\n"
    }
   },
   "outputs": [],
   "source": [
    "Budgetdataurl = 'https://raw.githubusercontent.com/Ustacky-dev/Nigeria-COVID-19-Data-Analysis-Using-Python/main/Budget%20data.csv'\n",
    "\n",
    "RealGDPurl = 'https://raw.githubusercontent.com/Ustacky-dev/Nigeria-COVID-19-Data-Analysis-Using-Python/main/RealGDP.csv'\n",
    "\n",
    "externalFileurl = 'https://raw.githubusercontent.com/Ustacky-dev/Nigeria-COVID-19-Data-Analysis-Using-Python/main/covid_external.csv'\n",
    "\n",
    "Budgetdata = pd.read_csv(Budgetdataurl)\n",
    "RealGDP = pd.read_csv(RealGDPurl)\n",
    "externalFile = pd.read_csv(externalFileurl)"
   ]
  },
  {
   "cell_type": "markdown",
   "metadata": {
    "pycharm": {
     "name": "#%% md\n"
    }
   },
   "source": [
    "## Task 2 -  View Data Properties"
   ]
  },
  {
   "cell_type": "markdown",
   "metadata": {
    "pycharm": {
     "name": "#%% md\n"
    }
   },
   "source": [
    "#### Reviewing First Five Data Points"
   ]
  },
  {
   "cell_type": "code",
   "execution_count": 11,
   "metadata": {
    "pycharm": {
     "name": "#%%\n"
    }
   },
   "outputs": [
    {
     "name": "stdout",
     "output_type": "stream",
     "text": [
      "  States Affected  No. of Cases (Lab Confirmed)  No. of Cases (on admission)  \\\n",
      "0           Lagos                         26708                         2435   \n",
      "1             FCT                          9627                         2840   \n",
      "2          Kaduna                          4504                          579   \n",
      "3         Plateau                          4262                          280   \n",
      "4             Oyo                          3788                          368   \n",
      "\n",
      "   No. Discharged  No. of Deaths  \n",
      "0           24037            236  \n",
      "1            6694             93  \n",
      "2            3877             48  \n",
      "3            3948             34  \n",
      "4            3374             46  \n",
      "************************************************** \n",
      "\n",
      "  Province/State Country/Region      Lat      Long     Date   cases\n",
      "0        Alberta         Canada  53.9333 -116.5765   1/1/21  100428\n",
      "1        Alberta         Canada  53.9333 -116.5765   1/1/22  361623\n",
      "2        Alberta         Canada  53.9333 -116.5765  1/10/21  111452\n",
      "3        Alberta         Canada  53.9333 -116.5765  1/10/22  412829\n",
      "4        Alberta         Canada  53.9333 -116.5765  1/11/21  112091\n",
      "************************************************** \n",
      "\n",
      "  Province/State  Country/Region      Lat     Long     Date  cases\n",
      "0       Anguilla  United Kingdom  18.2206 -63.0686   1/1/21     12\n",
      "1       Anguilla  United Kingdom  18.2206 -63.0686   1/1/22      0\n",
      "2       Anguilla  United Kingdom  18.2206 -63.0686  1/10/21     13\n",
      "3       Anguilla  United Kingdom  18.2206 -63.0686  1/10/22      0\n",
      "4       Anguilla  United Kingdom  18.2206 -63.0686  1/11/21     13\n",
      "************************************************** \n",
      "\n",
      "  Province/State Country/Region      Lat      Long     Date  cases\n",
      "0        Alberta         Canada  53.9333 -116.5765   1/1/21   1046\n",
      "1        Alberta         Canada  53.9333 -116.5765   1/1/22   3310\n",
      "2        Alberta         Canada  53.9333 -116.5765  1/10/21   1284\n",
      "3        Alberta         Canada  53.9333 -116.5765  1/10/22   3344\n",
      "4        Alberta         Canada  53.9333 -116.5765  1/11/21   1307\n",
      "************************************************** \n",
      "\n",
      "      states  Initial_budget (Bn)  Revised_budget (Bn)\n",
      "0       Abia               136.60               102.70\n",
      "1    Adamawa               183.30               139.31\n",
      "2  Akwa-Ibom               597.73               366.00\n",
      "3    Anambra               137.10               112.80\n",
      "4     Bauchi               167.20               128.00\n",
      "************************************************** \n",
      "\n",
      "   Year           Q1           Q2           Q3           Q4\n",
      "0  2014  15438679.50  16084622.31  17479127.58  18150356.45\n",
      "1  2015  16050601.38  16463341.91  17976234.59  18533752.07\n",
      "2  2016  15943714.54  16218542.41  17555441.69  18213537.29\n",
      "3  2017  15797965.83  16334719.27  17760228.17  18598067.07\n",
      "4  2018  16096654.19  16580508.07  18081342.10  19041437.59\n",
      "************************************************** \n",
      "\n",
      "      states         region  Population  Overall CCVI Index  Age  \\\n",
      "0        FCT  North Central     4865000                 0.3  0.0   \n",
      "1    Plateau  North Central     4766000                 0.4  0.5   \n",
      "2      Kwara  North Central     3524000                 0.3  0.4   \n",
      "3  Nassarawa  North Central     2783000                 0.1  0.3   \n",
      "4      Niger  North Central     6260000                 0.6  0.0   \n",
      "\n",
      "   Epidemiological  Fragility  Health System  Population Density  \\\n",
      "0              0.9        0.4            0.6                 0.9   \n",
      "1              0.4        0.8            0.3                 0.3   \n",
      "2              0.3        0.2            0.4                 0.2   \n",
      "3              0.5        0.9            0.0                 0.1   \n",
      "4              0.6        0.3            0.7                 0.1   \n",
      "\n",
      "   Socio-Economic   Transport Availability  Acute IHR  \n",
      "0             0.6                      0.2       0.79  \n",
      "1             0.5                      0.3       0.93  \n",
      "2             0.6                      0.7       0.93  \n",
      "3             0.6                      0.5       0.85  \n",
      "4             0.8                      0.8       0.84  \n",
      "************************************************** \n",
      "\n"
     ]
    }
   ],
   "source": [
    "print(NigCovid.head())\n",
    "print('*' * 50, '\\n')\n",
    "print(globalconfirmed_new.head())\n",
    "print('*' * 50, '\\n')\n",
    "print(recovered_new.head())\n",
    "print('*' * 50, '\\n')\n",
    "print(globaldeath_new.head())\n",
    "print('*' * 50, '\\n')\n",
    "print(Budgetdata.head())\n",
    "print('*' * 50, '\\n')\n",
    "print(RealGDP.head())\n",
    "print('*' * 50, '\\n')\n",
    "print(externalFile.head())\n",
    "print('*' * 50, '\\n')"
   ]
  },
  {
   "cell_type": "markdown",
   "metadata": {
    "pycharm": {
     "name": "#%% md\n"
    }
   },
   "source": [
    "#### Reviewing Data info"
   ]
  },
  {
   "cell_type": "code",
   "execution_count": 12,
   "metadata": {
    "pycharm": {
     "name": "#%%\n"
    }
   },
   "outputs": [
    {
     "name": "stdout",
     "output_type": "stream",
     "text": [
      "<class 'pandas.core.frame.DataFrame'>\n",
      "RangeIndex: 37 entries, 0 to 36\n",
      "Data columns (total 5 columns):\n",
      " #   Column                        Non-Null Count  Dtype \n",
      "---  ------                        --------------  ----- \n",
      " 0   States Affected               37 non-null     object\n",
      " 1   No. of Cases (Lab Confirmed)  37 non-null     int64 \n",
      " 2   No. of Cases (on admission)   37 non-null     int64 \n",
      " 3   No. Discharged                37 non-null     int64 \n",
      " 4   No. of Deaths                 37 non-null     int64 \n",
      "dtypes: int64(4), object(1)\n",
      "memory usage: 1.6+ KB\n",
      "None\n",
      "************************************************** \n",
      "\n",
      "<class 'pandas.core.frame.DataFrame'>\n",
      "RangeIndex: 79779 entries, 0 to 79778\n",
      "Data columns (total 6 columns):\n",
      " #   Column          Non-Null Count  Dtype  \n",
      "---  ------          --------------  -----  \n",
      " 0   Province/State  79779 non-null  object \n",
      " 1   Country/Region  79779 non-null  object \n",
      " 2   Lat             79779 non-null  float64\n",
      " 3   Long            79779 non-null  float64\n",
      " 4   Date            79779 non-null  object \n",
      " 5   cases           79779 non-null  int64  \n",
      "dtypes: float64(2), int64(1), object(3)\n",
      "memory usage: 3.7+ MB\n",
      "None\n",
      "************************************************** \n",
      "\n",
      "<class 'pandas.core.frame.DataFrame'>\n",
      "RangeIndex: 66024 entries, 0 to 66023\n",
      "Data columns (total 6 columns):\n",
      " #   Column          Non-Null Count  Dtype  \n",
      "---  ------          --------------  -----  \n",
      " 0   Province/State  66024 non-null  object \n",
      " 1   Country/Region  66024 non-null  object \n",
      " 2   Lat             66024 non-null  float64\n",
      " 3   Long            66024 non-null  float64\n",
      " 4   Date            66024 non-null  object \n",
      " 5   cases           66024 non-null  int64  \n",
      "dtypes: float64(2), int64(1), object(3)\n",
      "memory usage: 3.0+ MB\n",
      "None\n",
      "************************************************** \n",
      "\n",
      "<class 'pandas.core.frame.DataFrame'>\n",
      "RangeIndex: 79779 entries, 0 to 79778\n",
      "Data columns (total 6 columns):\n",
      " #   Column          Non-Null Count  Dtype  \n",
      "---  ------          --------------  -----  \n",
      " 0   Province/State  79779 non-null  object \n",
      " 1   Country/Region  79779 non-null  object \n",
      " 2   Lat             79779 non-null  float64\n",
      " 3   Long            79779 non-null  float64\n",
      " 4   Date            79779 non-null  object \n",
      " 5   cases           79779 non-null  int64  \n",
      "dtypes: float64(2), int64(1), object(3)\n",
      "memory usage: 3.7+ MB\n",
      "None\n",
      "************************************************** \n",
      "\n",
      "<class 'pandas.core.frame.DataFrame'>\n",
      "RangeIndex: 37 entries, 0 to 36\n",
      "Data columns (total 3 columns):\n",
      " #   Column               Non-Null Count  Dtype  \n",
      "---  ------               --------------  -----  \n",
      " 0   states               37 non-null     object \n",
      " 1   Initial_budget (Bn)  37 non-null     float64\n",
      " 2   Revised_budget (Bn)  37 non-null     float64\n",
      "dtypes: float64(2), object(1)\n",
      "memory usage: 1016.0+ bytes\n",
      "None\n",
      "************************************************** \n",
      "\n",
      "<class 'pandas.core.frame.DataFrame'>\n",
      "RangeIndex: 7 entries, 0 to 6\n",
      "Data columns (total 5 columns):\n",
      " #   Column  Non-Null Count  Dtype  \n",
      "---  ------  --------------  -----  \n",
      " 0   Year    7 non-null      int64  \n",
      " 1   Q1      7 non-null      float64\n",
      " 2   Q2      7 non-null      float64\n",
      " 3   Q3      7 non-null      float64\n",
      " 4   Q4      7 non-null      float64\n",
      "dtypes: float64(4), int64(1)\n",
      "memory usage: 408.0 bytes\n",
      "None\n",
      "************************************************** \n",
      "\n",
      "<class 'pandas.core.frame.DataFrame'>\n",
      "RangeIndex: 37 entries, 0 to 36\n",
      "Data columns (total 12 columns):\n",
      " #   Column                   Non-Null Count  Dtype  \n",
      "---  ------                   --------------  -----  \n",
      " 0   states                   37 non-null     object \n",
      " 1   region                   37 non-null     object \n",
      " 2   Population               37 non-null     int64  \n",
      " 3   Overall CCVI Index       37 non-null     float64\n",
      " 4   Age                      37 non-null     float64\n",
      " 5   Epidemiological          37 non-null     float64\n",
      " 6   Fragility                37 non-null     float64\n",
      " 7   Health System            37 non-null     float64\n",
      " 8   Population Density       37 non-null     float64\n",
      " 9   Socio-Economic           37 non-null     float64\n",
      " 10   Transport Availability  37 non-null     float64\n",
      " 11  Acute IHR                37 non-null     float64\n",
      "dtypes: float64(9), int64(1), object(2)\n",
      "memory usage: 3.6+ KB\n",
      "None\n",
      "************************************************** \n",
      "\n"
     ]
    }
   ],
   "source": [
    "print(NigCovid.info())\n",
    "print('*' * 50, '\\n')\n",
    "print(globalconfirmed_new.info())\n",
    "print('*' * 50, '\\n')\n",
    "print(recovered_new.info())\n",
    "print('*' * 50, '\\n')\n",
    "print(globaldeath_new.info())\n",
    "print('*' * 50, '\\n')\n",
    "print(Budgetdata.info())\n",
    "print('*' * 50, '\\n')\n",
    "print(RealGDP.info())\n",
    "print('*' * 50, '\\n')\n",
    "print(externalFile.info())\n",
    "print('*' * 50, '\\n')"
   ]
  },
  {
   "cell_type": "markdown",
   "metadata": {
    "pycharm": {
     "name": "#%% md\n"
    }
   },
   "source": [
    "## Task 3 - Data Cleaning and Preparation\n",
    "\n",
    "### Convert to appropriate data type\n",
    "\n",
    "#### converter into date types"
   ]
  },
  {
   "cell_type": "code",
   "execution_count": 14,
   "metadata": {
    "pycharm": {
     "name": "#%%\n"
    }
   },
   "outputs": [],
   "source": [
    "globalconfirmed_new['Date'] = pd.to_datetime(globalconfirmed_new['Date'])\n",
    "\n",
    "recovered_new['Date'] = pd.to_datetime(recovered_new['Date'])\n",
    "\n",
    "globaldeath_new['Date'] = pd.to_datetime(globaldeath_new['Date'])"
   ]
  },
  {
   "cell_type": "markdown",
   "metadata": {
    "pycharm": {
     "name": "#%% md\n"
    }
   },
   "source": [
    "#### Remove commas from scrapped data"
   ]
  },
  {
   "cell_type": "code",
   "execution_count": 15,
   "metadata": {
    "pycharm": {
     "name": "#%%\n"
    }
   },
   "outputs": [
    {
     "name": "stdout",
     "output_type": "stream",
     "text": [
      "<class 'pandas.core.frame.DataFrame'>\n",
      "RangeIndex: 37 entries, 0 to 36\n",
      "Data columns (total 5 columns):\n",
      " #   Column                        Non-Null Count  Dtype \n",
      "---  ------                        --------------  ----- \n",
      " 0   States Affected               37 non-null     object\n",
      " 1   No. of Cases (Lab Confirmed)  37 non-null     int64 \n",
      " 2   No. of Cases (on admission)   37 non-null     int64 \n",
      " 3   No. Discharged                37 non-null     int64 \n",
      " 4   No. of Deaths                 37 non-null     int64 \n",
      "dtypes: int64(4), object(1)\n",
      "memory usage: 1.6+ KB\n",
      "None\n"
     ]
    }
   ],
   "source": [
    "#NigCovid[1:] = NigCovid[1:].replace(',','')\n",
    "print(NigCovid.info())"
   ]
  },
  {
   "cell_type": "markdown",
   "metadata": {
    "pycharm": {
     "name": "#%% md\n"
    }
   },
   "source": [
    "#### Rename columns in the Nigeria COVID-19 Data"
   ]
  },
  {
   "cell_type": "code",
   "execution_count": 16,
   "metadata": {
    "pycharm": {
     "name": "#%%\n"
    }
   },
   "outputs": [],
   "source": [
    "Nigcovidheaders = np.array(NigCovid.columns)  #\n",
    "NigCovid.rename(columns={Nigcovidheaders[0]: 'States',\n",
    "                         Nigcovidheaders[1]: 'Confirmed',\n",
    "                         Nigcovidheaders[2]: 'Admissions',\n",
    "                         Nigcovidheaders[3]: 'Discharged',\n",
    "                         Nigcovidheaders[4]: 'Deaths'}, inplace=True)"
   ]
  },
  {
   "cell_type": "markdown",
   "metadata": {
    "pycharm": {
     "name": "#%% md\n"
    }
   },
   "source": [
    "#### Remove comma(,) in numerical data\n",
    "#### Look into this"
   ]
  },
  {
   "cell_type": "code",
   "execution_count": null,
   "metadata": {
    "pycharm": {
     "name": "#%%\n"
    }
   },
   "outputs": [],
   "source": [
    "#NigCovid.astype({'Confirmed':'float','Admissions':'float','Discharged':'str','Deaths':'str'})\n",
    "# list(Nigcovidheaders[1:])\n",
    "#NigCovid[list(Nigcovidheaders[1:])]= NigCovid.Confirmed.astype(int)\n",
    "#NigCovid['Confirmed'].replace(',',regex=True,inplace=True)\n",
    "##NigCovid.Confirmed = NigCovid.Confirmed.astype(float)\n",
    "##print(NigCovid.info())"
   ]
  },
  {
   "cell_type": "code",
   "execution_count": null,
   "outputs": [],
   "source": [
    "## Save csv\n",
    "\n",
    "'''\n",
    "\n",
    "NigCovid.to_csv('NigCovid.csv')\n",
    "globalconfirmed_new.to_csv('globalconfirmed_new.csv')\n",
    "recovered_new.to_csv('recovered_new.csv')\n",
    "globaldeath_new.to_csv('globaldeath_new.csv')\n",
    "Budgetdata.to_csv('Budgetdata.csv')\n",
    "RealGDP.to_csv('RealGDP.csv')\n",
    "externalFile.to_csv('externalFile.csv')\n",
    "\n",
    "'''"
   ],
   "metadata": {
    "collapsed": false,
    "pycharm": {
     "name": "#%%\n"
    }
   }
  },
  {
   "cell_type": "markdown",
   "metadata": {
    "pycharm": {
     "name": "#%% md\n"
    }
   },
   "source": [
    "#### Extract daily data for Nigeria from the Global daily cases data\n",
    "#### look into countries present in the data set"
   ]
  },
  {
   "cell_type": "code",
   "execution_count": 17,
   "metadata": {
    "pycharm": {
     "name": "#%%\n"
    }
   },
   "outputs": [
    {
     "name": "stdout",
     "output_type": "stream",
     "text": [
      "['Canada' 'United Kingdom' 'China' 'Netherlands' 'Australia' 'New Zealand'\n",
      " 'Denmark' 'France']\n",
      "Empty DataFrame\n",
      "Columns: [Province/State, Country/Region, Lat, Long, Date, cases]\n",
      "Index: []\n"
     ]
    }
   ],
   "source": [
    "print(globalconfirmed_new['Country/Region'].unique())\n",
    "# no Nigeria present in the data\n",
    "country = 'Nigeria'\n",
    "Nigeria = globalconfirmed_new[globalconfirmed_new['Country/Region'] == country]\n",
    "print(Nigeria)"
   ]
  },
  {
   "cell_type": "markdown",
   "metadata": {
    "pycharm": {
     "name": "#%% md\n"
    }
   },
   "source": [
    "# Task 4 - Analysis\n",
    "### Confirmed Covid cases by Laboratory test"
   ]
  },
  {
   "cell_type": "code",
   "execution_count": 18,
   "metadata": {
    "pycharm": {
     "name": "#%%\n"
    }
   },
   "outputs": [
    {
     "name": "stdout",
     "output_type": "stream",
     "text": [
      "    States  Confirmed\n",
      "0    Lagos      26708\n",
      "1      FCT       9627\n",
      "2   Kaduna       4504\n",
      "3  Plateau       4262\n",
      "4      Oyo       3788\n",
      "5   Rivers       3279\n",
      "6      Edo       2768\n",
      "7     Ogun       2382\n",
      "8     Kano       2032\n",
      "9    Delta       1843\n",
      "<class 'pandas.core.frame.DataFrame'>\n",
      "Int64Index: 10 entries, 0 to 9\n",
      "Data columns (total 2 columns):\n",
      " #   Column     Non-Null Count  Dtype \n",
      "---  ------     --------------  ----- \n",
      " 0   States     10 non-null     object\n",
      " 1   Confirmed  10 non-null     int64 \n",
      "dtypes: int64(1), object(1)\n",
      "memory usage: 240.0+ bytes\n",
      "None\n"
     ]
    },
    {
     "data": {
      "text/plain": "<Figure size 2880x2160 with 0 Axes>"
     },
     "metadata": {},
     "output_type": "display_data"
    },
    {
     "data": {
      "text/plain": "<Figure size 360x360 with 1 Axes>",
      "image/png": "[encoded data removed]"
     },
     "metadata": {
      "needs_background": "light"
     },
     "output_type": "display_data"
    },
    {
     "data": {
      "text/plain": "<Figure size 432x288 with 1 Axes>",
      "image/png": "[encoded data removed]"
     },
     "metadata": {
      "needs_background": "light"
     },
     "output_type": "display_data"
    }
   ],
   "source": [
    "#print(NigCovid)\n",
    "\n",
    "Top_10_Confirmed = NigCovid.nlargest(10, columns=['Confirmed'])[['States', 'Confirmed']]\n",
    "print(Top_10_Confirmed)\n",
    "print(Top_10_Confirmed.info())\n",
    "plt.figure(figsize=(40, 30))\n",
    "g = sns.catplot(x='Confirmed', y=\"States\", kind=\"bar\",\n",
    "                palette=\"pastel\", edgecolor=\".6\", errwidth=0,\n",
    "                data=Top_10_Confirmed).fig.suptitle('Product Ratings by Customers')\n",
    "plt.show()\n",
    "\n",
    "b = sns.barplot(x=\"States\", y='Confirmed', data=Top_10_Confirmed)\n",
    "plt.bar_label(b.containers[0])\n",
    "plt.show()"
   ]
  },
  {
   "cell_type": "code",
   "execution_count": null,
   "outputs": [],
   "source": [
    "##ggplot(Top_10_Confirmed,aes(x = 'States')) + geom_col(y= 'Confirmed') + geom_bar() + coord_flip()"
   ],
   "metadata": {
    "collapsed": false,
    "pycharm": {
     "name": "#%%\n"
    }
   }
  }
 ],
 "metadata": {
  "kernelspec": {
   "display_name": "Python 3 (ipykernel)",
   "language": "python",
   "name": "python3"
  },
  "language_info": {
   "codemirror_mode": {
    "name": "ipython",
    "version": 2
   },
   "file_extension": ".py",
   "mimetype": "text/x-python",
   "name": "python",
   "nbconvert_exporter": "python",
   "pygments_lexer": "ipython2",
   "version": "2.7.6"
  }
 },
 "nbformat": 4,
 "nbformat_minor": 1
}