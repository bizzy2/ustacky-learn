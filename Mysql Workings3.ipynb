{
 "cells": [
  {
   "cell_type": "code",
   "execution_count": 48,
   "metadata": {
    "collapsed": true
   },
   "outputs": [],
   "source": [
    "import pymysql\n",
    "\n",
    "from MySQLdb._exceptions import Error"
   ]
  },
  {
   "cell_type": "markdown",
   "source": [
    "Create database connection"
   ],
   "metadata": {
    "collapsed": false
   }
  },
  {
   "cell_type": "code",
   "execution_count": 49,
   "outputs": [],
   "source": [
    "''' Parameters '''\n",
    "host = 'localhost'\n",
    "user = 'Bismarck'\n",
    "pw = 'System123'\n",
    "db = 'world_x'\n",
    "\n",
    "connection  = pymysql.connect(host=host, user=user, password=pw, db=db)"
   ],
   "metadata": {
    "collapsed": false,
    "pycharm": {
     "name": "#%%\n"
    }
   }
  },
  {
   "cell_type": "markdown",
   "source": [
    "Insert Many queries"
   ],
   "metadata": {
    "collapsed": false
   }
  },
  {
   "cell_type": "markdown",
   "source": [
    "Prepare a cursor object"
   ],
   "metadata": {
    "collapsed": false
   }
  },
  {
   "cell_type": "code",
   "execution_count": 50,
   "outputs": [],
   "source": [
    "cursor =  connection.cursor()"
   ],
   "metadata": {
    "collapsed": false,
    "pycharm": {
     "name": "#%%\n"
    }
   }
  },
  {
   "cell_type": "markdown",
   "source": [
    "Insert Query"
   ],
   "metadata": {
    "collapsed": false
   }
  },
  {
   "cell_type": "code",
   "execution_count": 51,
   "outputs": [],
   "source": [
    "query = '''\n",
    "            insert into employee( first_name,last_name,age,salary)\n",
    "            values (%s,%s,%s,%s)\n",
    "        '''"
   ],
   "metadata": {
    "collapsed": false,
    "pycharm": {
     "name": "#%%\n"
    }
   }
  },
  {
   "cell_type": "markdown",
   "source": [
    "Create insert list"
   ],
   "metadata": {
    "collapsed": false
   }
  },
  {
   "cell_type": "code",
   "execution_count": 52,
   "outputs": [],
   "source": [
    "records = [\n",
    "        ('Emeka', 'Jude', 25, 4000),\n",
    "        ('Ayomide', 'Emmanuel', 23, 3000),\n",
    "        ('Ibrahim', 'Musa', 25, 5000)\n",
    "]"
   ],
   "metadata": {
    "collapsed": false,
    "pycharm": {
     "name": "#%%\n"
    }
   }
  },
  {
   "cell_type": "markdown",
   "source": [
    "Execute Query"
   ],
   "metadata": {
    "collapsed": false
   }
  },
  {
   "cell_type": "code",
   "execution_count": 53,
   "outputs": [
    {
     "name": "stdout",
     "output_type": "stream",
     "text": [
      "3 Records Inserted\n",
      "Connection Closed\n"
     ]
    }
   ],
   "source": [
    "try:\n",
    "    cursor.executemany(query = query, args=records)\n",
    "    connection.commit()\n",
    "    print(cursor.rowcount, 'Records Inserted')\n",
    "except Error as e:\n",
    "    connection.rollback()\n",
    "    print('Error: Inserting Row')\n",
    "finally:\n",
    "    connection.close()\n",
    "    print('Connection Closed')\n"
   ],
   "metadata": {
    "collapsed": false,
    "pycharm": {
     "name": "#%%\n"
    }
   }
  }
 ],
 "metadata": {
  "kernelspec": {
   "display_name": "Python 3",
   "language": "python",
   "name": "python3"
  },
  "language_info": {
   "codemirror_mode": {
    "name": "ipython",
    "version": 2
   },
   "file_extension": ".py",
   "mimetype": "text/x-python",
   "name": "python",
   "nbconvert_exporter": "python",
   "pygments_lexer": "ipython2",
   "version": "2.7.6"
  }
 },
 "nbformat": 4,
 "nbformat_minor": 0
}