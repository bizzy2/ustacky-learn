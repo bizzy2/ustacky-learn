{
 "cells": [
  {
   "cell_type": "code",
   "execution_count": 2,
   "metadata": {
    "collapsed": true
   },
   "outputs": [
    {
     "name": "stdout",
     "output_type": "stream",
     "text": [
      "      result                          documentation  \\\n",
      "AED  success  https://www.exchangerate-api.com/docs   \n",
      "AFN  success  https://www.exchangerate-api.com/docs   \n",
      "ALL  success  https://www.exchangerate-api.com/docs   \n",
      "AMD  success  https://www.exchangerate-api.com/docs   \n",
      "ANG  success  https://www.exchangerate-api.com/docs   \n",
      "..       ...                                    ...   \n",
      "XPF  success  https://www.exchangerate-api.com/docs   \n",
      "YER  success  https://www.exchangerate-api.com/docs   \n",
      "ZAR  success  https://www.exchangerate-api.com/docs   \n",
      "ZMW  success  https://www.exchangerate-api.com/docs   \n",
      "ZWL  success  https://www.exchangerate-api.com/docs   \n",
      "\n",
      "                               terms_of_use  time_last_update_unix  \\\n",
      "AED  https://www.exchangerate-api.com/terms             1652486401   \n",
      "AFN  https://www.exchangerate-api.com/terms             1652486401   \n",
      "ALL  https://www.exchangerate-api.com/terms             1652486401   \n",
      "AMD  https://www.exchangerate-api.com/terms             1652486401   \n",
      "ANG  https://www.exchangerate-api.com/terms             1652486401   \n",
      "..                                      ...                    ...   \n",
      "XPF  https://www.exchangerate-api.com/terms             1652486401   \n",
      "YER  https://www.exchangerate-api.com/terms             1652486401   \n",
      "ZAR  https://www.exchangerate-api.com/terms             1652486401   \n",
      "ZMW  https://www.exchangerate-api.com/terms             1652486401   \n",
      "ZWL  https://www.exchangerate-api.com/terms             1652486401   \n",
      "\n",
      "                time_last_update_utc  time_next_update_unix  \\\n",
      "AED  Sat, 14 May 2022 00:00:01 +0000             1652572801   \n",
      "AFN  Sat, 14 May 2022 00:00:01 +0000             1652572801   \n",
      "ALL  Sat, 14 May 2022 00:00:01 +0000             1652572801   \n",
      "AMD  Sat, 14 May 2022 00:00:01 +0000             1652572801   \n",
      "ANG  Sat, 14 May 2022 00:00:01 +0000             1652572801   \n",
      "..                               ...                    ...   \n",
      "XPF  Sat, 14 May 2022 00:00:01 +0000             1652572801   \n",
      "YER  Sat, 14 May 2022 00:00:01 +0000             1652572801   \n",
      "ZAR  Sat, 14 May 2022 00:00:01 +0000             1652572801   \n",
      "ZMW  Sat, 14 May 2022 00:00:01 +0000             1652572801   \n",
      "ZWL  Sat, 14 May 2022 00:00:01 +0000             1652572801   \n",
      "\n",
      "                time_next_update_utc base_code  conversion_rates  \n",
      "AED  Sun, 15 May 2022 00:00:01 +0000       USD            3.6725  \n",
      "AFN  Sun, 15 May 2022 00:00:01 +0000       USD           87.6184  \n",
      "ALL  Sun, 15 May 2022 00:00:01 +0000       USD          114.3536  \n",
      "AMD  Sun, 15 May 2022 00:00:01 +0000       USD          456.0921  \n",
      "ANG  Sun, 15 May 2022 00:00:01 +0000       USD            1.7900  \n",
      "..                               ...       ...               ...  \n",
      "XPF  Sun, 15 May 2022 00:00:01 +0000       USD          114.7493  \n",
      "YER  Sun, 15 May 2022 00:00:01 +0000       USD          250.2552  \n",
      "ZAR  Sun, 15 May 2022 00:00:01 +0000       USD           16.1487  \n",
      "ZMW  Sun, 15 May 2022 00:00:01 +0000       USD           17.0059  \n",
      "ZWL  Sun, 15 May 2022 00:00:01 +0000       USD          244.1404  \n",
      "\n",
      "[161 rows x 9 columns]\n"
     ]
    }
   ],
   "source": [
    "import pandas as pd\n",
    "url = 'https://v6.exchangerate-api.com/v6/696b902431afa23d6e429dbe/latest/USD'\n",
    "\n",
    "data6 = pd.read_json (url)\n",
    "print(data6)\n"
   ]
  }
 ],
 "metadata": {
  "kernelspec": {
   "display_name": "Python 3",
   "language": "python",
   "name": "python3"
  },
  "language_info": {
   "codemirror_mode": {
    "name": "ipython",
    "version": 2
   },
   "file_extension": ".py",
   "mimetype": "text/x-python",
   "name": "python",
   "nbconvert_exporter": "python",
   "pygments_lexer": "ipython2",
   "version": "2.7.6"
  }
 },
 "nbformat": 4,
 "nbformat_minor": 0
}